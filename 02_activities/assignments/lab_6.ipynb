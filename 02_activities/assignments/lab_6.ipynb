{
  "cells": [
    {
      "cell_type": "markdown",
      "metadata": {
        "id": "icBFSQGeaHnZ"
      },
      "source": [
        "## Text classification using Neural Networks\n",
        "\n",
        "The goal of this notebook is to learn to use Neural Networks for text classification.\n",
        "\n",
        "In this notebook, we will:\n",
        "- Train a shallow model with learning embeddings\n",
        "- Download pre-trained embeddings from Glove\n",
        "- Use these pre-trained embeddings"
      ]
    },
    {
      "cell_type": "markdown",
      "metadata": {
        "id": "7NHeqx-oaHnZ"
      },
      "source": [
        "## The BBC topic classification dataset\n",
        "\n",
        "The BBC provides some benchmark topic classification datasets in English at: http://mlg.ucd.ie/datasets/bbc.html.\n",
        "\n",
        "The raw text (encoded with the latin-1 character encoding) of the news can be downloaded as a ZIP archive:"
      ]
    },
    {
      "cell_type": "code",
      "execution_count": 1,
      "metadata": {
        "colab": {
          "base_uri": "https://localhost:8080/"
        },
        "id": "nCW4Eut2aHna",
        "outputId": "d0dd82bf-5708-46ac-e32d-e0538a33f446"
      },
      "outputs": [
        {
          "name": "stdout",
          "output_type": "stream",
          "text": [
            "Downloading http://mlg.ucd.ie/files/datasets/bbc-fulltext.zip to bbc-fulltext.zip...\n",
            "Extracting contents of bbc-fulltext.zip...\n"
          ]
        }
      ],
      "source": [
        "import os\n",
        "import os.path as op\n",
        "import zipfile\n",
        "from urllib.request import urlretrieve\n",
        "\n",
        "BBC_DATASET_URL = \"http://mlg.ucd.ie/files/datasets/bbc-fulltext.zip\"\n",
        "zip_filename = BBC_DATASET_URL.rsplit('/', 1)[1]\n",
        "BBC_DATASET_FOLDER = 'bbc'\n",
        "if not op.exists(zip_filename):\n",
        "    print(\"Downloading %s to %s...\" % (BBC_DATASET_URL, zip_filename))\n",
        "    urlretrieve(BBC_DATASET_URL, zip_filename)\n",
        "\n",
        "if not op.exists(BBC_DATASET_FOLDER):\n",
        "    with zipfile.ZipFile(zip_filename, 'r') as f:\n",
        "        print(\"Extracting contents of %s...\" % zip_filename)\n",
        "        f.extractall('.')"
      ]
    },
    {
      "cell_type": "markdown",
      "metadata": {
        "id": "7TLtx0eEaHna"
      },
      "source": [
        "Each of the five folders contains text files from one of the five topics:"
      ]
    },
    {
      "cell_type": "code",
      "execution_count": 2,
      "metadata": {
        "colab": {
          "base_uri": "https://localhost:8080/"
        },
        "id": "lwcZ17GmaHna",
        "outputId": "e622d01c-dcdf-4712-c8c6-25f58b642600"
      },
      "outputs": [
        {
          "data": {
            "text/plain": [
              "['business', 'entertainment', 'politics', 'sport', 'tech']"
            ]
          },
          "execution_count": 2,
          "metadata": {},
          "output_type": "execute_result"
        }
      ],
      "source": [
        "target_names = sorted(folder for folder in os.listdir(BBC_DATASET_FOLDER)\n",
        "                      if op.isdir(op.join(BBC_DATASET_FOLDER, folder)))\n",
        "target_names"
      ]
    },
    {
      "cell_type": "code",
      "execution_count": 3,
      "metadata": {
        "colab": {
          "base_uri": "https://localhost:8080/"
        },
        "id": "fQr-duPjaHna",
        "outputId": "15ca86a4-ecae-4b13-88c3-00cf3014fd53"
      },
      "outputs": [
        {
          "name": "stdout",
          "output_type": "stream",
          "text": [
            "Ad sales boost Time Warner profit\n",
            "\n",
            "Quarterly profits at US media giant TimeWarner jumped 76% to $1.13bn (Â£600m) for the three months to December, from $639m year-earlier.\n",
            "\n",
            "The firm, which is now one of the biggest investors in Google, benefited from sales of high-speed internet connections and higher advert sales. TimeWarner said fourth quarter sales rose 2% to $11.1bn from $10.9bn. Its profits were buoyed by one-off gains which offset a profit dip at Warner Bros, and less users for AOL.\n",
            "\n",
            "Time ...\n"
          ]
        }
      ],
      "source": [
        "# Example of a file in the \"business\" category\n",
        "with open(op.join(BBC_DATASET_FOLDER, 'business', '001.txt'), 'rb') as f:\n",
        "    print(f.read().decode('latin-1')[:500] + '...')"
      ]
    },
    {
      "cell_type": "markdown",
      "metadata": {
        "id": "rDEOvi3maHna"
      },
      "source": [
        "Let's randomly partition the text files in a training and test set while recording the target category of each file as an integer:"
      ]
    },
    {
      "cell_type": "code",
      "execution_count": 4,
      "metadata": {
        "id": "fAWe0AizaHna"
      },
      "outputs": [],
      "source": [
        "import numpy as np\n",
        "from sklearn.model_selection import train_test_split\n",
        "\n",
        "target = []\n",
        "filenames = []\n",
        "for target_id, target_name in enumerate(target_names):\n",
        "    class_path = op.join(BBC_DATASET_FOLDER, target_name) # e.g. 'bbc/business'\n",
        "    for filename in sorted(os.listdir(class_path)):\n",
        "        filenames.append(op.join(class_path, filename))\n",
        "        target.append(target_id)\n",
        "\n",
        "target = np.asarray(target, dtype=np.int32)\n",
        "target_train, target_test, filenames_train, filenames_test = train_test_split(\n",
        "    target, filenames, test_size=200, random_state=0)"
      ]
    },
    {
      "cell_type": "markdown",
      "metadata": {
        "collapsed": false,
        "id": "LA_wXH_RaHnb"
      },
      "source": [
        "What we now have is pairs of target labels (which category the document belongs to) and filenames (where the document is stored on disk):"
      ]
    },
    {
      "cell_type": "code",
      "execution_count": 5,
      "metadata": {
        "colab": {
          "base_uri": "https://localhost:8080/"
        },
        "id": "Ph7JAARhaHnb",
        "outputId": "dec78d40-07d0-40f4-875a-ee4dc45210f4"
      },
      "outputs": [
        {
          "data": {
            "text/plain": [
              "(array([0, 1, 3, 4, 3], dtype=int32),\n",
              " ['bbc/business/475.txt',\n",
              "  'bbc/entertainment/152.txt',\n",
              "  'bbc/sport/127.txt',\n",
              "  'bbc/tech/095.txt',\n",
              "  'bbc/sport/464.txt'])"
            ]
          },
          "execution_count": 5,
          "metadata": {},
          "output_type": "execute_result"
        }
      ],
      "source": [
        "target_train[:5], filenames_train[:5]"
      ]
    },
    {
      "cell_type": "code",
      "execution_count": 6,
      "metadata": {
        "colab": {
          "base_uri": "https://localhost:8080/"
        },
        "id": "89MWt_HLaHnb",
        "outputId": "48c52d96-cffe-4765-c88d-8de555c447c1"
      },
      "outputs": [
        {
          "name": "stdout",
          "output_type": "stream",
          "text": [
            "Training set size: 4.582 MB\n"
          ]
        }
      ],
      "source": [
        "size_in_bytes = sum([len(open(fn, 'rb').read()) for fn in filenames_train])\n",
        "print(\"Training set size: %0.3f MB\" % (size_in_bytes / 1e6))"
      ]
    },
    {
      "cell_type": "markdown",
      "metadata": {
        "id": "wbSCMgInaHnb"
      },
      "source": [
        "This dataset is small so we can load everything into memory right now (which simplifies our code later). If we had substantially more data, we would need to use a `tf.data.Dataset` to stream it from disk in batches during training."
      ]
    },
    {
      "cell_type": "code",
      "execution_count": 7,
      "metadata": {
        "id": "Qto1f_UqaHnb"
      },
      "outputs": [],
      "source": [
        "texts_train = [open(fn, 'rb').read().decode('latin-1') for fn in filenames_train]\n",
        "texts_test = [open(fn, 'rb').read().decode('latin-1') for fn in filenames_test]"
      ]
    },
    {
      "cell_type": "markdown",
      "metadata": {
        "id": "Wlrem05zaHnc"
      },
      "source": [
        "## A first baseline model\n",
        "\n",
        "For simple topic classification problems, one should always try a simple method first. Let's try using a `CountVectorizer` followed by `LogisticRegression` as a baseline. What this will do is:\n",
        "\n",
        "- Convert the text documents to a matrix of token counts (each row is a document, each column is a word, each cell is the count of the word in the document)\n",
        "- Train a logistic regression model on this matrix\n",
        "\n",
        "It's a very efficient method and should give us a strong baseline to compare our deep learning method against."
      ]
    },
    {
      "cell_type": "code",
      "execution_count": 8,
      "metadata": {
        "colab": {
          "base_uri": "https://localhost:8080/"
        },
        "id": "FcTA6U4-aHnc",
        "outputId": "575a3d8c-c071-4e7e-b9ff-cba6aabbe843"
      },
      "outputs": [
        {
          "name": "stdout",
          "output_type": "stream",
          "text": [
            "Start of the first document:\n",
            "Watchdog probes Vivendi bond sale\n",
            "\n",
            "French stock market regulator AMF has filed complaints against me...\n",
            "----------\n",
            "Sampling of vocabulary counts in the document:\n",
            "bank 2\n",
            "bankruptcy 0\n",
            "banks 0\n",
            "barcelona 0\n",
            "based 0\n",
            "basic 0\n",
            "basis 1\n",
            "bath 0\n",
            "battle 0\n",
            "bbc 0\n"
          ]
        }
      ],
      "source": [
        "from sklearn.feature_extraction.text import CountVectorizer\n",
        "\n",
        "# Understanding what the CountVectorizer does\n",
        "vectorizer = CountVectorizer(max_features=2000) # only keep the 2000 most frequent words\n",
        "X_train = vectorizer.fit_transform(texts_train)\n",
        "\n",
        "# Compare the content of the first document with the vocabulary\n",
        "print(\"Start of the first document:\")\n",
        "print(texts_train[0][0:100] + '...')\n",
        "print('----------')\n",
        "print(\"Sampling of vocabulary counts in the document:\")\n",
        "for word, count in zip(vectorizer.get_feature_names_out()[200:210], X_train.toarray()[0][200:210]):\n",
        "    print(word, count)"
      ]
    },
    {
      "cell_type": "code",
      "execution_count": 9,
      "metadata": {
        "id": "2p_PUXY-aHnc"
      },
      "outputs": [],
      "source": [
        "from sklearn.feature_extraction.text import CountVectorizer\n",
        "from sklearn.linear_model import LogisticRegression\n",
        "from sklearn.pipeline import make_pipeline\n",
        "\n",
        "\n",
        "text_classifier = make_pipeline(\n",
        "    CountVectorizer(max_features=2000),\n",
        "    LogisticRegression(max_iter=1000),\n",
        ")"
      ]
    },
    {
      "cell_type": "code",
      "execution_count": 10,
      "metadata": {
        "colab": {
          "base_uri": "https://localhost:8080/"
        },
        "id": "Q84aWoMlaHnc",
        "outputId": "2efbeedc-9e89-44d1-9756-c1b8303c8dc3"
      },
      "outputs": [
        {
          "name": "stdout",
          "output_type": "stream",
          "text": [
            "CPU times: user 5.29 s, sys: 16.7 ms, total: 5.31 s\n",
            "Wall time: 4.14 s\n"
          ]
        }
      ],
      "source": [
        "%time _ = text_classifier.fit(texts_train, target_train)"
      ]
    },
    {
      "cell_type": "markdown",
      "metadata": {
        "collapsed": false,
        "id": "IlTEQsDvaHnc"
      },
      "source": [
        "Let's check the accuracy of this baseline model on the test set:"
      ]
    },
    {
      "cell_type": "code",
      "execution_count": 11,
      "metadata": {
        "colab": {
          "base_uri": "https://localhost:8080/"
        },
        "id": "i8MRxTSfaHnc",
        "outputId": "72b177d7-02fc-4310-bf03-fd7405f91805"
      },
      "outputs": [
        {
          "data": {
            "text/plain": [
              "0.96"
            ]
          },
          "execution_count": 11,
          "metadata": {},
          "output_type": "execute_result"
        }
      ],
      "source": [
        "text_classifier.score(texts_test, target_test)"
      ]
    },
    {
      "cell_type": "markdown",
      "metadata": {
        "id": "0li-g8nXaHnc"
      },
      "source": [
        "Approximately 95 percent testing accuracy on a very simple baseline. It's quite unlikely that we can significantly beat that baseline with a more complex deep learning based model. This is simply not a complex task - we wouldn't expect to see this level of performance from a simple model on a real-world text classification problem. Let's move on, and see how well we can do with a simple neural network."
      ]
    },
    {
      "cell_type": "markdown",
      "metadata": {
        "id": "zNJJnRvyaHnc"
      },
      "source": [
        "### Preprocessing text for the (supervised) CBOW model\n",
        "\n",
        "We will implement a simple classification model in Keras. Raw text requires (sometimes a lot of) preprocessing.\n",
        "\n",
        "The following cells uses Keras to preprocess text:\n",
        "- using a tokenizer. This converts the texts into sequences of indices representing the `20000` most frequent words\n",
        "- sequences have different lengths, so we pad them (add 0s at the end until the sequence is of length `1000`). For example, if we were padding to three words, and we had a sequence of just \"dog\", we would pad it to \"[\\<dog token\\>,0,0]\".\n",
        "- we convert the output classes as 1-hot encodings"
      ]
    },
    {
      "cell_type": "code",
      "execution_count": 12,
      "metadata": {
        "colab": {
          "base_uri": "https://localhost:8080/"
        },
        "id": "KUMaH3vpaHnc",
        "outputId": "7c857006-948e-4048-8824-4257c271a332"
      },
      "outputs": [
        {
          "name": "stdout",
          "output_type": "stream",
          "text": [
            "Found 30995 unique tokens.\n",
            "Example of word_index: [('the', 1), ('to', 2), ('of', 3), ('and', 4), ('a', 5)]\n"
          ]
        }
      ],
      "source": [
        "from tensorflow.keras.preprocessing.text import Tokenizer\n",
        "\n",
        "MAX_NB_WORDS = 20000\n",
        "\n",
        "# vectorize the text samples into a 2D integer tensor\n",
        "tokenizer = Tokenizer(num_words=MAX_NB_WORDS, char_level=False)\n",
        "tokenizer.fit_on_texts(texts_train)\n",
        "sequences = tokenizer.texts_to_sequences(texts_train)\n",
        "sequences_test = tokenizer.texts_to_sequences(texts_test)\n",
        "\n",
        "word_index = tokenizer.word_index\n",
        "print('Found %s unique tokens.' % len(word_index))\n",
        "print(f'Example of word_index: {list(word_index.items())[:5]}')"
      ]
    },
    {
      "cell_type": "markdown",
      "metadata": {
        "id": "crxWkCL6aHnc"
      },
      "source": [
        "Tokenized sequences are converted to list of token ids (with an integer code). We can convert them back to text to see what they now look like:"
      ]
    },
    {
      "cell_type": "code",
      "execution_count": 13,
      "metadata": {
        "id": "NJokkShKaHnc"
      },
      "outputs": [],
      "source": [
        "index_to_word = dict((i, w) for w, i in tokenizer.word_index.items())"
      ]
    },
    {
      "cell_type": "code",
      "execution_count": 14,
      "metadata": {
        "colab": {
          "base_uri": "https://localhost:8080/"
        },
        "id": "j41CoN-4aHnc",
        "outputId": "94312aaf-dce5-4082-9b93-13fdc918ad33"
      },
      "outputs": [
        {
          "name": "stdout",
          "output_type": "stream",
          "text": [
            "Original text:          ['Watchdog', 'probes', 'Vivendi', 'bond']\n",
            "Tokenized text:         [1857, 9454, 5251, 1973]\n",
            "Converted back to text: ['watchdog', 'probes', 'vivendi', 'bond']\n"
          ]
        }
      ],
      "source": [
        "print(f'Original text:          {texts_train[0].split(\" \")[0:4]}')\n",
        "print(f'Tokenized text:         {sequences[0][0:4]}')\n",
        "print(f'Converted back to text: {[index_to_word.get(i, \"UNK\") for i in sequences[0][0:4]]}')"
      ]
    },
    {
      "cell_type": "markdown",
      "metadata": {
        "id": "oYEFkRZSaHnc"
      },
      "source": [
        "Let's have a closer look at the tokenized sequences:"
      ]
    },
    {
      "cell_type": "code",
      "execution_count": 15,
      "metadata": {
        "colab": {
          "base_uri": "https://localhost:8080/"
        },
        "id": "MjUZDkkPaHnd",
        "outputId": "3001a780-7efd-4285-fe78-b89be05be585"
      },
      "outputs": [
        {
          "name": "stdout",
          "output_type": "stream",
          "text": [
            "average length: 382.6\n",
            "max length: 4355\n"
          ]
        }
      ],
      "source": [
        "seq_lens = [len(s) for s in sequences]\n",
        "print(\"average length: %0.1f\" % np.mean(seq_lens))\n",
        "print(\"max length: %d\" % max(seq_lens))"
      ]
    },
    {
      "cell_type": "code",
      "execution_count": 16,
      "metadata": {
        "colab": {
          "base_uri": "https://localhost:8080/",
          "height": 430
        },
        "id": "Ck9YDRQaaHnd",
        "outputId": "61bf512d-f9c3-4457-c0bc-bfab15fc47d0"
      },
      "outputs": [
        {
          "data": {
            "image/png": "[encoded data removed]",
            "text/plain": [
              "<Figure size 640x480 with 1 Axes>"
            ]
          },
          "metadata": {},
          "output_type": "display_data"
        }
      ],
      "source": [
        "import matplotlib.pyplot as plt\n",
        "\n",
        "plt.hist(seq_lens, bins=50);"
      ]
    },
    {
      "cell_type": "markdown",
      "metadata": {
        "id": "EatO4YDQaHnd"
      },
      "source": [
        "We can see that while we do have sequences up to 4355 words long, the vast majority of sequences are less than 1000 words long. We can use this information to truncate or pad all the sequences to 1000 symbols to build the training set. This will simplify our model and speed up training."
      ]
    },
    {
      "cell_type": "code",
      "execution_count": 17,
      "metadata": {
        "colab": {
          "base_uri": "https://localhost:8080/"
        },
        "id": "CmxX0kuLaHnd",
        "outputId": "90956cd9-04da-4480-81d2-6ee5e2e09e0e"
      },
      "outputs": [
        {
          "name": "stdout",
          "output_type": "stream",
          "text": [
            "Shape of data tensor: (2025, 1000)\n",
            "Shape of data test tensor: (200, 1000)\n"
          ]
        }
      ],
      "source": [
        "from tensorflow.keras.preprocessing.sequence import pad_sequences\n",
        "\n",
        "\n",
        "MAX_SEQUENCE_LENGTH = 1000\n",
        "\n",
        "# Make all sequences exactly 1000 words long\n",
        "x_train = pad_sequences(sequences, maxlen=MAX_SEQUENCE_LENGTH)\n",
        "x_test = pad_sequences(sequences_test, maxlen=MAX_SEQUENCE_LENGTH)\n",
        "print('Shape of data tensor:', x_train.shape)\n",
        "print('Shape of data test tensor:', x_test.shape)"
      ]
    },
    {
      "cell_type": "code",
      "execution_count": 18,
      "metadata": {
        "colab": {
          "base_uri": "https://localhost:8080/"
        },
        "id": "OfJjlrxgaHnd",
        "outputId": "8a4a004d-36fc-4737-aa06-1b1354512ff1"
      },
      "outputs": [
        {
          "name": "stdout",
          "output_type": "stream",
          "text": [
            "Shape of label tensor: (2025, 5)\n"
          ]
        }
      ],
      "source": [
        "from tensorflow.keras.utils import to_categorical\n",
        "\n",
        "y_train = to_categorical(target_train)\n",
        "print('Shape of label tensor:', y_train.shape)"
      ]
    },
    {
      "cell_type": "markdown",
      "metadata": {
        "id": "J_kj4DiFaHnd"
      },
      "source": [
        "### A simple supervised CBOW model in Keras\n",
        "\n",
        "The following computes a very simple model, as described in [fastText](https://github.com/facebookresearch/fastText):\n",
        "\n",
        "<img src=\"https://raw.githubusercontent.com/UofT-DSI/deep_learning/58b409e83f4294b293d6f763abf889d0a0fa1ddf/03_instructional_team/markdown_slides/images/svg_files/06_fasttext.svg\" style=\"width: 600px;\" />\n",
        "\n",
        "- Build an embedding layer mapping each word to a vector representation\n",
        "- Compute the vector representation of all words in each sequence and average them\n",
        "- Add a dense layer to output 5 classes"
      ]
    },
    {
      "cell_type": "code",
      "execution_count": 19,
      "metadata": {
        "id": "TKVV1TQLaHnd"
      },
      "outputs": [],
      "source": [
        "from tensorflow.keras.layers import Dense, GlobalAveragePooling1D, Embedding\n",
        "from tensorflow.keras.models import Sequential\n",
        "from tensorflow.keras.optimizers import Adam\n",
        "\n",
        "EMBEDDING_DIM = 50\n",
        "N_CLASSES = len(target_names)\n",
        "\n",
        "model = Sequential([\n",
        "    Embedding(MAX_NB_WORDS, EMBEDDING_DIM, trainable=True), # Just like we've seen in previous labs\n",
        "    GlobalAveragePooling1D(), # This layer averages the embeddings of all words in the sequence\n",
        "    Dense(N_CLASSES, activation='softmax') # This layer outputs a probability distribution over the 5 classes\n",
        "])\n",
        "\n",
        "model.compile(\n",
        "    loss='categorical_crossentropy',\n",
        "    optimizer=Adam(learning_rate=0.01),\n",
        "    metrics=['accuracy']\n",
        ")"
      ]
    },
    {
      "cell_type": "code",
      "execution_count": null,
      "metadata": {
        "id": "IOtDWl2paHnd"
      },
      "outputs": [],
      "source": [
        "model.fit(x_train, y_train, validation_split=0.1,\n",
        "          epochs=10, batch_size=32)"
      ]
    },
    {
      "cell_type": "markdown",
      "metadata": {
        "id": "HCY4LfSIaHnd"
      },
      "source": [
        "**Exercise**\n",
        "\n",
        "- Evaluate the model on the test set\n",
        "- Identify an example of a mis-classified document and display the text of the document"
      ]
    },
    {
      "cell_type": "code",
      "execution_count": 22,
      "metadata": {
        "colab": {
          "base_uri": "https://localhost:8080/"
        },
        "id": "TSdvSDkVaHnd",
        "outputId": "f855ed6e-0b52-492e-8393-4416d01b2fd2"
      },
      "outputs": [
        {
          "name": "stdout",
          "output_type": "stream",
          "text": [
            "Shape of test label tensor: (200, 5)\n",
            "\u001b[1m7/7\u001b[0m \u001b[32m━━━━━━━━━━━━━━━━━━━━\u001b[0m\u001b[37m\u001b[0m \u001b[1m1s\u001b[0m 10ms/step - accuracy: 0.2565 - loss: 1.6057 \n",
            "Test Accuracy: 0.245\n"
          ]
        }
      ],
      "source": [
        "# Evaluate the model\n",
        "\n",
        "y_test = to_categorical(target_test)\n",
        "print('Shape of test label tensor:', y_test.shape)\n",
        "\n",
        "test_loss, test_acc = model.evaluate(x_test, y_test)\n",
        "print(f\"Test Accuracy: {test_acc:.3f}\")\n"
      ]
    },
    {
      "cell_type": "markdown",
      "metadata": {
        "id": "9u9yLXrvaHne"
      },
      "source": [
        "### Building more complex models\n",
        "\n",
        "**Exercise**\n",
        "- Copy the previous model, and add more complexity to it. You can try adding more layers, or using a different type of layer (e.g. LSTM, Conv1D, etc.)\n",
        "- Some examples of what you could do:\n",
        "    - Add a LSTM layer before the dense layer ([LSTM documentation](https://keras.io/layers/recurrent/#lstm))\n",
        "    - Add a Conv1D layer after the embedding layer ([Conv1D documentation](https://keras.io/layers/convolutional/#conv1d))\n",
        "    - Add more dense layers"
      ]
    },
    {
      "cell_type": "code",
      "execution_count": 28,
      "metadata": {
        "colab": {
          "base_uri": "https://localhost:8080/",
          "height": 232
        },
        "id": "TyzPyKYRaHne",
        "outputId": "295e4c76-bbc4-4a32-e244-6f9888c53a79"
      },
      "outputs": [
        {
          "data": {
            "text/html": [
              "<pre style=\"white-space:pre;overflow-x:auto;line-height:normal;font-family:Menlo,'DejaVu Sans Mono',consolas,'Courier New',monospace\"><span style=\"font-weight: bold\">Model: \"sequential_2\"</span>\n",
              "</pre>\n"
            ],
            "text/plain": [
              "\u001b[1mModel: \"sequential_2\"\u001b[0m\n"
            ]
          },
          "metadata": {},
          "output_type": "display_data"
        },
        {
          "data": {
            "text/html": [
              "<pre style=\"white-space:pre;overflow-x:auto;line-height:normal;font-family:Menlo,'DejaVu Sans Mono',consolas,'Courier New',monospace\">┏━━━━━━━━━━━━━━━━━━━━━━━━━━━━━━━━━┳━━━━━━━━━━━━━━━━━━━━━━━━┳━━━━━━━━━━━━━━━┓\n",
              "┃<span style=\"font-weight: bold\"> Layer (type)                    </span>┃<span style=\"font-weight: bold\"> Output Shape           </span>┃<span style=\"font-weight: bold\">       Param # </span>┃\n",
              "┡━━━━━━━━━━━━━━━━━━━━━━━━━━━━━━━━━╇━━━━━━━━━━━━━━━━━━━━━━━━╇━━━━━━━━━━━━━━━┩\n",
              "│ embedding_2 (<span style=\"color: #0087ff; text-decoration-color: #0087ff\">Embedding</span>)         │ (<span style=\"color: #00d7ff; text-decoration-color: #00d7ff\">None</span>, <span style=\"color: #00af00; text-decoration-color: #00af00\">1000</span>, <span style=\"color: #00af00; text-decoration-color: #00af00\">50</span>)       │     <span style=\"color: #00af00; text-decoration-color: #00af00\">1,000,000</span> │\n",
              "├─────────────────────────────────┼────────────────────────┼───────────────┤\n",
              "│ lstm_1 (<span style=\"color: #0087ff; text-decoration-color: #0087ff\">LSTM</span>)                   │ (<span style=\"color: #00d7ff; text-decoration-color: #00d7ff\">None</span>, <span style=\"color: #00af00; text-decoration-color: #00af00\">100</span>)            │        <span style=\"color: #00af00; text-decoration-color: #00af00\">60,400</span> │\n",
              "├─────────────────────────────────┼────────────────────────┼───────────────┤\n",
              "│ dense_2 (<span style=\"color: #0087ff; text-decoration-color: #0087ff\">Dense</span>)                 │ (<span style=\"color: #00d7ff; text-decoration-color: #00d7ff\">None</span>, <span style=\"color: #00af00; text-decoration-color: #00af00\">5</span>)              │           <span style=\"color: #00af00; text-decoration-color: #00af00\">505</span> │\n",
              "└─────────────────────────────────┴────────────────────────┴───────────────┘\n",
              "</pre>\n"
            ],
            "text/plain": [
              "┏━━━━━━━━━━━━━━━━━━━━━━━━━━━━━━━━━┳━━━━━━━━━━━━━━━━━━━━━━━━┳━━━━━━━━━━━━━━━┓\n",
              "┃\u001b[1m \u001b[0m\u001b[1mLayer (type)                   \u001b[0m\u001b[1m \u001b[0m┃\u001b[1m \u001b[0m\u001b[1mOutput Shape          \u001b[0m\u001b[1m \u001b[0m┃\u001b[1m \u001b[0m\u001b[1m      Param #\u001b[0m\u001b[1m \u001b[0m┃\n",
              "┡━━━━━━━━━━━━━━━━━━━━━━━━━━━━━━━━━╇━━━━━━━━━━━━━━━━━━━━━━━━╇━━━━━━━━━━━━━━━┩\n",
              "│ embedding_2 (\u001b[38;5;33mEmbedding\u001b[0m)         │ (\u001b[38;5;45mNone\u001b[0m, \u001b[38;5;34m1000\u001b[0m, \u001b[38;5;34m50\u001b[0m)       │     \u001b[38;5;34m1,000,000\u001b[0m │\n",
              "├─────────────────────────────────┼────────────────────────┼───────────────┤\n",
              "│ lstm_1 (\u001b[38;5;33mLSTM\u001b[0m)                   │ (\u001b[38;5;45mNone\u001b[0m, \u001b[38;5;34m100\u001b[0m)            │        \u001b[38;5;34m60,400\u001b[0m │\n",
              "├─────────────────────────────────┼────────────────────────┼───────────────┤\n",
              "│ dense_2 (\u001b[38;5;33mDense\u001b[0m)                 │ (\u001b[38;5;45mNone\u001b[0m, \u001b[38;5;34m5\u001b[0m)              │           \u001b[38;5;34m505\u001b[0m │\n",
              "└─────────────────────────────────┴────────────────────────┴───────────────┘\n"
            ]
          },
          "metadata": {},
          "output_type": "display_data"
        },
        {
          "data": {
            "text/html": [
              "<pre style=\"white-space:pre;overflow-x:auto;line-height:normal;font-family:Menlo,'DejaVu Sans Mono',consolas,'Courier New',monospace\"><span style=\"font-weight: bold\"> Total params: </span><span style=\"color: #00af00; text-decoration-color: #00af00\">1,060,905</span> (4.05 MB)\n",
              "</pre>\n"
            ],
            "text/plain": [
              "\u001b[1m Total params: \u001b[0m\u001b[38;5;34m1,060,905\u001b[0m (4.05 MB)\n"
            ]
          },
          "metadata": {},
          "output_type": "display_data"
        },
        {
          "data": {
            "text/html": [
              "<pre style=\"white-space:pre;overflow-x:auto;line-height:normal;font-family:Menlo,'DejaVu Sans Mono',consolas,'Courier New',monospace\"><span style=\"font-weight: bold\"> Trainable params: </span><span style=\"color: #00af00; text-decoration-color: #00af00\">1,060,905</span> (4.05 MB)\n",
              "</pre>\n"
            ],
            "text/plain": [
              "\u001b[1m Trainable params: \u001b[0m\u001b[38;5;34m1,060,905\u001b[0m (4.05 MB)\n"
            ]
          },
          "metadata": {},
          "output_type": "display_data"
        },
        {
          "data": {
            "text/html": [
              "<pre style=\"white-space:pre;overflow-x:auto;line-height:normal;font-family:Menlo,'DejaVu Sans Mono',consolas,'Courier New',monospace\"><span style=\"font-weight: bold\"> Non-trainable params: </span><span style=\"color: #00af00; text-decoration-color: #00af00\">0</span> (0.00 B)\n",
              "</pre>\n"
            ],
            "text/plain": [
              "\u001b[1m Non-trainable params: \u001b[0m\u001b[38;5;34m0\u001b[0m (0.00 B)\n"
            ]
          },
          "metadata": {},
          "output_type": "display_data"
        }
      ],
      "source": [
        "from tensorflow.keras.layers import Embedding, LSTM, Dense, GlobalAveragePooling1D\n",
        "from tensorflow.keras.models import Sequential\n",
        "from tensorflow.keras.optimizers import Adam\n",
        "\n",
        "# Define constants\n",
        "EMBEDDING_DIM = 50\n",
        "N_CLASSES = len(target_names)\n",
        "\n",
        "# Build the model\n",
        "model = Sequential([\n",
        "    Embedding(input_dim=MAX_NB_WORDS, output_dim=EMBEDDING_DIM, input_length=MAX_SEQUENCE_LENGTH, trainable=True),\n",
        "    LSTM(100),  # or use GlobalAveragePooling1D() instead\n",
        "    Dense(N_CLASSES, activation='softmax')\n",
        "])\n",
        "\n",
        "# Compile the model\n",
        "model.compile(\n",
        "    loss='categorical_crossentropy',\n",
        "    optimizer=Adam(learning_rate=0.001),\n",
        "    metrics=['accuracy']\n",
        ")\n",
        "\n",
        "model.build(input_shape=(None, MAX_SEQUENCE_LENGTH))\n",
        "model.summary()\n"
      ]
    },
    {
      "cell_type": "code",
      "execution_count": 29,
      "metadata": {
        "colab": {
          "base_uri": "https://localhost:8080/"
        },
        "id": "5hdtTj9OaHne",
        "outputId": "a8c8b78b-2089-498b-e3ad-ab8aac1bc448"
      },
      "outputs": [
        {
          "name": "stdout",
          "output_type": "stream",
          "text": [
            "Epoch 1/15\n",
            "\u001b[1m57/57\u001b[0m \u001b[32m━━━━━━━━━━━━━━━━━━━━\u001b[0m\u001b[37m\u001b[0m \u001b[1m51s\u001b[0m 851ms/step - accuracy: 0.2550 - loss: 1.5929 - val_accuracy: 0.4187 - val_loss: 1.2769\n",
            "Epoch 2/15\n",
            "\u001b[1m57/57\u001b[0m \u001b[32m━━━━━━━━━━━━━━━━━━━━\u001b[0m\u001b[37m\u001b[0m \u001b[1m49s\u001b[0m 858ms/step - accuracy: 0.4667 - loss: 1.1490 - val_accuracy: 0.4926 - val_loss: 1.0467\n",
            "Epoch 3/15\n",
            "\u001b[1m57/57\u001b[0m \u001b[32m━━━━━━━━━━━━━━━━━━━━\u001b[0m\u001b[37m\u001b[0m \u001b[1m80s\u001b[0m 821ms/step - accuracy: 0.6271 - loss: 0.9280 - val_accuracy: 0.4926 - val_loss: 1.2115\n",
            "Epoch 4/15\n",
            "\u001b[1m57/57\u001b[0m \u001b[32m━━━━━━━━━━━━━━━━━━━━\u001b[0m\u001b[37m\u001b[0m \u001b[1m83s\u001b[0m 849ms/step - accuracy: 0.6824 - loss: 0.8560 - val_accuracy: 0.7143 - val_loss: 0.6786\n",
            "Epoch 5/15\n",
            "\u001b[1m57/57\u001b[0m \u001b[32m━━━━━━━━━━━━━━━━━━━━\u001b[0m\u001b[37m\u001b[0m \u001b[1m47s\u001b[0m 828ms/step - accuracy: 0.8591 - loss: 0.3961 - val_accuracy: 0.7241 - val_loss: 0.7141\n",
            "Epoch 6/15\n",
            "\u001b[1m57/57\u001b[0m \u001b[32m━━━━━━━━━━━━━━━━━━━━\u001b[0m\u001b[37m\u001b[0m \u001b[1m82s\u001b[0m 819ms/step - accuracy: 0.9552 - loss: 0.2823 - val_accuracy: 0.8473 - val_loss: 0.4594\n",
            "Epoch 7/15\n",
            "\u001b[1m57/57\u001b[0m \u001b[32m━━━━━━━━━━━━━━━━━━━━\u001b[0m\u001b[37m\u001b[0m \u001b[1m47s\u001b[0m 831ms/step - accuracy: 0.9829 - loss: 0.0966 - val_accuracy: 0.8621 - val_loss: 0.4018\n",
            "Epoch 8/15\n",
            "\u001b[1m57/57\u001b[0m \u001b[32m━━━━━━━━━━━━━━━━━━━━\u001b[0m\u001b[37m\u001b[0m \u001b[1m82s\u001b[0m 825ms/step - accuracy: 0.9935 - loss: 0.0328 - val_accuracy: 0.8621 - val_loss: 0.3575\n",
            "Epoch 9/15\n",
            "\u001b[1m57/57\u001b[0m \u001b[32m━━━━━━━━━━━━━━━━━━━━\u001b[0m\u001b[37m\u001b[0m \u001b[1m80s\u001b[0m 795ms/step - accuracy: 0.9873 - loss: 0.0659 - val_accuracy: 0.9113 - val_loss: 0.3080\n",
            "Epoch 10/15\n",
            "\u001b[1m57/57\u001b[0m \u001b[32m━━━━━━━━━━━━━━━━━━━━\u001b[0m\u001b[37m\u001b[0m \u001b[1m84s\u001b[0m 820ms/step - accuracy: 0.9918 - loss: 0.0344 - val_accuracy: 0.9212 - val_loss: 0.3086\n",
            "Epoch 11/15\n",
            "\u001b[1m57/57\u001b[0m \u001b[32m━━━━━━━━━━━━━━━━━━━━\u001b[0m\u001b[37m\u001b[0m \u001b[1m47s\u001b[0m 833ms/step - accuracy: 0.9983 - loss: 0.0165 - val_accuracy: 0.9163 - val_loss: 0.2911\n",
            "Epoch 12/15\n",
            "\u001b[1m57/57\u001b[0m \u001b[32m━━━━━━━━━━━━━━━━━━━━\u001b[0m\u001b[37m\u001b[0m \u001b[1m84s\u001b[0m 864ms/step - accuracy: 1.0000 - loss: 0.0029 - val_accuracy: 0.9310 - val_loss: 0.2814\n",
            "Epoch 13/15\n",
            "\u001b[1m57/57\u001b[0m \u001b[32m━━━━━━━━━━━━━━━━━━━━\u001b[0m\u001b[37m\u001b[0m \u001b[1m49s\u001b[0m 864ms/step - accuracy: 1.0000 - loss: 0.0020 - val_accuracy: 0.9261 - val_loss: 0.2711\n",
            "Epoch 14/15\n",
            "\u001b[1m57/57\u001b[0m \u001b[32m━━━━━━━━━━━━━━━━━━━━\u001b[0m\u001b[37m\u001b[0m \u001b[1m80s\u001b[0m 833ms/step - accuracy: 1.0000 - loss: 0.0015 - val_accuracy: 0.9360 - val_loss: 0.2650\n",
            "Epoch 15/15\n",
            "\u001b[1m57/57\u001b[0m \u001b[32m━━━━━━━━━━━━━━━━━━━━\u001b[0m\u001b[37m\u001b[0m \u001b[1m47s\u001b[0m 831ms/step - accuracy: 1.0000 - loss: 0.0011 - val_accuracy: 0.9310 - val_loss: 0.2846\n",
            "Test accuracy: 0.945\n"
          ]
        }
      ],
      "source": [
        "model.fit(x_train, y_train, validation_split=0.1,\n",
        "          epochs=15, batch_size=32)\n",
        "\n",
        "output_test = model(x_test)\n",
        "test_casses = np.argmax(output_test, axis=-1)\n",
        "print(\"Test accuracy:\", np.mean(test_casses == target_test))"
      ]
    },
    {
      "cell_type": "markdown",
      "metadata": {
        "id": "MU1hLtTFaHne"
      },
      "source": [
        "### Loading pre-trained embeddings\n",
        "\n",
        "The file `glove100K.100d.txt` is an extract of [Glove](http://nlp.stanford.edu/projects/glove/) Vectors, that were trained on English Wikipedia and the Gigaword 5 corpus. They differ from word2vec in the way the vectors are trained, but the idea is the same: each word is represented as a vector of `100` numbers.\n",
        "\n",
        "We extracted the `100 000` most frequent words for you, and the code below downloads them."
      ]
    },
    {
      "cell_type": "code",
      "execution_count": null,
      "metadata": {
        "id": "jlD5RbzYaHne"
      },
      "outputs": [],
      "source": [
        "# Get pretrained Glove Word2Vec\n",
        "URL_REPRESENTATIONS = \"https://github.com/m2dsupsdlclass/lectures-labs/releases/download/0.3/glove100k.100d.zip\"\n",
        "ZIP_REPRESENTATIONS = \"glove100k.100d.zip\"\n",
        "FILE_REPRESENTATIONS = \"glove100K.100d.txt\"\n",
        "\n",
        "if not op.exists(ZIP_REPRESENTATIONS):\n",
        "    print('Downloading from %s to %s...' % (URL_REPRESENTATIONS, ZIP_REPRESENTATIONS))\n",
        "    urlretrieve(URL_REPRESENTATIONS, './' + ZIP_REPRESENTATIONS)\n",
        "\n",
        "if not op.exists(FILE_REPRESENTATIONS):\n",
        "    print(\"extracting %s...\" % ZIP_REPRESENTATIONS)\n",
        "    myzip = zipfile.ZipFile(ZIP_REPRESENTATIONS)\n",
        "    myzip.extractall()"
      ]
    },
    {
      "cell_type": "code",
      "execution_count": null,
      "metadata": {
        "id": "laC6-8UGaHne"
      },
      "outputs": [],
      "source": [
        "embeddings_index = {}\n",
        "embeddings_vectors = []\n",
        "with open('glove100K.100d.txt', 'rb') as f:\n",
        "    word_idx = 0\n",
        "    for line in f:\n",
        "        values = line.decode('utf-8').split()\n",
        "        word = values[0]\n",
        "        vector = np.asarray(values[1:], dtype='float32')\n",
        "        embeddings_index[word] = word_idx\n",
        "        embeddings_vectors.append(vector)\n",
        "        word_idx = word_idx + 1\n",
        "\n",
        "inv_index = {v: k for k, v in embeddings_index.items()}\n",
        "print(\"found %d different words in the file\" % word_idx)"
      ]
    },
    {
      "cell_type": "code",
      "execution_count": null,
      "metadata": {
        "id": "anedX1SYaHne"
      },
      "outputs": [],
      "source": [
        "# Stack all embeddings in a large numpy array\n",
        "glove_embeddings = np.vstack(embeddings_vectors)\n",
        "glove_norms = np.linalg.norm(glove_embeddings, axis=-1, keepdims=True)\n",
        "glove_embeddings_normed = glove_embeddings / glove_norms\n",
        "print(glove_embeddings.shape)"
      ]
    },
    {
      "cell_type": "code",
      "execution_count": null,
      "metadata": {
        "id": "-_WH7nl0aHne"
      },
      "outputs": [],
      "source": [
        "def get_emb(word):\n",
        "    idx = embeddings_index.get(word)\n",
        "    if idx is None:\n",
        "        return None\n",
        "    else:\n",
        "        return glove_embeddings[idx]\n",
        "\n",
        "\n",
        "def get_normed_emb(word):\n",
        "    idx = embeddings_index.get(word)\n",
        "    if idx is None:\n",
        "        return None\n",
        "    else:\n",
        "        return glove_embeddings_normed[idx]"
      ]
    },
    {
      "cell_type": "code",
      "execution_count": null,
      "metadata": {
        "id": "0PUaCKWkaHne"
      },
      "outputs": [],
      "source": [
        "get_emb(\"computer\")"
      ]
    },
    {
      "cell_type": "markdown",
      "metadata": {
        "id": "ymfi0ke2aHne"
      },
      "source": [
        "### Finding most similar words\n",
        "\n",
        "Here we define a function to find the most similar words to a given word. The similarity is computed using the cosine similarity between the word embeddings. It can also accept multiple words, and it will take the average of the embeddings of the words to find the most similar words."
      ]
    },
    {
      "cell_type": "code",
      "execution_count": null,
      "metadata": {
        "id": "01qaDwZRaHne"
      },
      "outputs": [],
      "source": [
        "def most_similar(words, topn=10):\n",
        "    query_emb = 0\n",
        "    # If we have a list of words instead of one word\n",
        "    # (bonus question)\n",
        "    if type(words) == list:\n",
        "        for word in words:\n",
        "            query_emb += get_emb(word)\n",
        "    else:\n",
        "        query_emb = get_emb(words)\n",
        "\n",
        "    query_emb = query_emb / np.linalg.norm(query_emb)\n",
        "\n",
        "    # Large numpy vector with all cosine similarities\n",
        "    # between emb and all other words\n",
        "    cosines = np.dot(glove_embeddings_normed, query_emb)\n",
        "\n",
        "    # topn most similar indexes corresponding to cosines\n",
        "    idxs = np.argsort(cosines)[::-1][:topn]\n",
        "\n",
        "    # pretty return with word and similarity\n",
        "    return [(inv_index[idx], cosines[idx]) for idx in idxs]"
      ]
    },
    {
      "cell_type": "code",
      "execution_count": null,
      "metadata": {
        "id": "Mv0_Lng4aHne"
      },
      "outputs": [],
      "source": [
        "most_similar(\"cpu\")"
      ]
    },
    {
      "cell_type": "code",
      "execution_count": null,
      "metadata": {
        "id": "sIR1xqoDaHne"
      },
      "outputs": [],
      "source": [
        "most_similar(\"nvidia\")"
      ]
    },
    {
      "cell_type": "code",
      "execution_count": null,
      "metadata": {
        "id": "tsG7afVkaHne"
      },
      "outputs": [],
      "source": [
        "most_similar(\"1\")"
      ]
    },
    {
      "cell_type": "code",
      "execution_count": null,
      "metadata": {
        "id": "W3owTAdhaHnf"
      },
      "outputs": [],
      "source": [
        "# bonus: sum of two word embeddings\n",
        "most_similar([\"toronto\", \"leaf\"])"
      ]
    },
    {
      "cell_type": "markdown",
      "metadata": {
        "collapsed": false,
        "id": "SjgCPx_IaHnf"
      },
      "source": [
        "### Displaying vectors with  t-SNE"
      ]
    },
    {
      "cell_type": "code",
      "execution_count": null,
      "metadata": {
        "id": "9smPBbn9aHnf"
      },
      "outputs": [],
      "source": [
        "from sklearn.manifold import TSNE\n",
        "\n",
        "word_emb_tsne = TSNE(perplexity=30).fit_transform(glove_embeddings_normed[:1000])"
      ]
    },
    {
      "cell_type": "code",
      "execution_count": null,
      "metadata": {
        "id": "UMI0pTZcaHnf",
        "scrolled": false
      },
      "outputs": [],
      "source": [
        "import matplotlib.pyplot as plt\n",
        "\n",
        "plt.figure(figsize=(40, 40))\n",
        "axis = plt.gca()\n",
        "np.set_printoptions(suppress=True)\n",
        "plt.scatter(word_emb_tsne[:, 0], word_emb_tsne[:, 1], marker=\".\", s=1)\n",
        "\n",
        "for idx in range(1000):\n",
        "    plt.annotate(inv_index[idx],\n",
        "                 xy=(word_emb_tsne[idx, 0], word_emb_tsne[idx, 1]),\n",
        "                 xytext=(0, 0), textcoords='offset points')\n",
        "plt.savefig(\"tsne.png\")\n",
        "plt.show()"
      ]
    },
    {
      "cell_type": "markdown",
      "metadata": {
        "id": "iyAs22N7aHnf"
      },
      "source": [
        "### Using pre-trained embeddings in our model\n",
        "\n",
        "We want to use these pre-trained embeddings for transfer learning. This process is rather similar than transfer learning in image recognition: the features learnt on words might help us bootstrap the learning process, and increase performance if we don't have enough training data.\n",
        "\n",
        "- We initialize embedding matrix from the model with Glove embeddings:\n",
        " - take all unique words from our BBC news dataset to build a vocabulary (`MAX_NB_WORDS = 20000`), and look up their Glove embedding\n",
        " - place the Glove embedding at the corresponding index in the matrix\n",
        " - if the word is not in the Glove vocabulary, we only place zeros in the matrix"
      ]
    },
    {
      "cell_type": "code",
      "execution_count": null,
      "metadata": {
        "id": "Up6drL44aHnf"
      },
      "outputs": [],
      "source": [
        "EMBEDDING_DIM = 100\n",
        "\n",
        "# prepare embedding matrix\n",
        "nb_words_in_matrix = 0\n",
        "nb_words = min(MAX_NB_WORDS, len(word_index))\n",
        "embedding_matrix = np.zeros((nb_words, EMBEDDING_DIM))\n",
        "for word, i in word_index.items():\n",
        "    if i >= MAX_NB_WORDS:\n",
        "        continue\n",
        "    embedding_vector = get_emb(word)\n",
        "    if embedding_vector is not None:\n",
        "        # words not found in embedding index will be all-zeros.\n",
        "        embedding_matrix[i] = embedding_vector # Place the Glove embedding at the corresponding index in the matrix\n",
        "        nb_words_in_matrix = nb_words_in_matrix + 1\n",
        "\n",
        "print(\"added %d words in the embedding matrix\" % nb_words_in_matrix)"
      ]
    },
    {
      "cell_type": "markdown",
      "metadata": {
        "id": "QcUXhH_1aHnf"
      },
      "source": [
        "Build a layer with pre-trained embeddings:"
      ]
    },
    {
      "cell_type": "code",
      "execution_count": null,
      "metadata": {
        "id": "T4NiURSxaHnf"
      },
      "outputs": [],
      "source": [
        "pretrained_embedding_layer = Embedding(\n",
        "    MAX_NB_WORDS, EMBEDDING_DIM,\n",
        "    weights=[embedding_matrix],\n",
        ")"
      ]
    },
    {
      "cell_type": "markdown",
      "metadata": {
        "id": "jQk7KPiJaHnf"
      },
      "source": [
        "### A model with pre-trained Embeddings\n",
        "\n",
        "Now we can build a model with pre-trained embeddings. We will use the same architecture as before, but we will use the `pretrained_embedding_layer` as the first layer of the model."
      ]
    },
    {
      "cell_type": "code",
      "execution_count": null,
      "metadata": {
        "id": "Gh_zFFl7aHnf"
      },
      "outputs": [],
      "source": [
        "model = Sequential([\n",
        "    # Add the pre-defined and pre-trained embedding layer\n",
        "    pretrained_embedding_layer,\n",
        "    GlobalAveragePooling1D(),\n",
        "    Dense(N_CLASSES, activation='softmax')\n",
        "])\n",
        "\n",
        "# Set the embedding layer's trainable attribute to False to not fine-tune the embeddings - you can try to change this\n",
        "model.layers[0].trainable = False\n",
        "\n",
        "# Compile the model\n",
        "model.compile(loss='categorical_crossentropy',\n",
        "              optimizer=Adam(learning_rate=0.01), metrics=['accuracy'])\n"
      ]
    },
    {
      "cell_type": "code",
      "execution_count": null,
      "metadata": {
        "id": "lhrfmpByaHnf"
      },
      "outputs": [],
      "source": [
        "model.fit(x_train, y_train, validation_split=0.1,\n",
        "          epochs=15, batch_size=32)"
      ]
    },
    {
      "cell_type": "markdown",
      "metadata": {
        "id": "DIv01TDvaHnf"
      },
      "source": [
        "### Reality check\n",
        "\n",
        "On small/medium datasets (few 10,000s) of reasonably large documents (e.g. more than a few paragraphs), simpler classification methods usually perform better, and are much more efficient to train and use. Here are two resources to go further, if you are curious:\n",
        "- Naive Bayes approach, using scikit-learn [http://scikit-learn.org/stable/datasets/twenty_newsgroups.html](http://scikit-learn.org/stable/datasets/twenty_newsgroups.html)\n",
        "- Alec Radford (OpenAI) gave a very interesting presentation, showing that you need a VERY large dataset to have real gains from GRU/LSTM in text classification [https://www.slideshare.net/odsc/alec-radfordodsc-presentation](https://www.slideshare.net/odsc/alec-radfordodsc-presentation)\n",
        "\n",
        "Training deep architectures from random init on text classification is usually a waste of time.\n",
        "\n",
        "However, when looking at features, one can see that classification using simple methods isn't very robust, and won't generalize well to slightly different domains (e.g. forum posts => emails)\n",
        "\n",
        "Nowadays, the strategy would be to use pre-trained deep network (BERT) to extract features and fit a linear classifer on top of this. This is especially useful when classifying short texts (e.g. one or a few sentences) as this kind of tasks can be very sensitive to understanding the meaning resulting from intra-sentence interactions between words. The next session on attentional mechanisms and pre-trained transformer-based word models will explain this in more details."
      ]
    }
  ],
  "metadata": {
    "colab": {
      "provenance": []
    },
    "kernelspec": {
      "display_name": "lab_1",
      "language": "python",
      "name": "python3"
    },
    "language_info": {
      "codemirror_mode": {
        "name": "ipython",
        "version": 3
      },
      "file_extension": ".py",
      "mimetype": "text/x-python",
      "name": "python",
      "nbconvert_exporter": "python",
      "pygments_lexer": "ipython3",
      "version": "3.12.9"
    }
  },
  "nbformat": 4,
  "nbformat_minor": 0
}
